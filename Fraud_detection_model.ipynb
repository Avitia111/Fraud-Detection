{
 "cells": [
  {
   "cell_type": "code",
   "execution_count": null,
   "id": "b8010327-64d3-42f9-814e-d0b6d22c057c",
   "metadata": {},
   "outputs": [],
   "source": [
    "#pip install -U imbalanced-learn\n",
    "#!pip install xgboost"
   ]
  },
  {
   "cell_type": "code",
   "execution_count": null,
   "id": "5610433e-442f-4077-84dd-db042fb028ed",
   "metadata": {},
   "outputs": [],
   "source": [
    "import pandas as pd\n",
    "import matplotlib.pyplot as plt\n",
    "import numpy as np\n",
    "import random\n",
    "import seaborn as sns\n",
    "from sklearn.model_selection import train_test_split\n",
    "from sklearn.model_selection import StratifiedKFold\n",
    "from sklearn.model_selection import GridSearchCV\n",
    "from imblearn.over_sampling import SMOTE\n",
    "from xgboost import XGBClassifier\n",
    "from xgboost import Booster\n",
    "from xgboost import DMatrix\n",
    "from sklearn import metrics\n",
    "from datetime import datetime\n",
    "\n",
    "dataDF = pd.read_csv(\"Data/creditcard.csv\")\n",
    "dataDF.head()"
   ]
  }
 ],
 "metadata": {
  "kernelspec": {
   "display_name": "Python 3 (ipykernel)",
   "language": "python",
   "name": "python3"
  },
  "language_info": {
   "codemirror_mode": {
    "name": "ipython",
    "version": 3
   },
   "file_extension": ".py",
   "mimetype": "text/x-python",
   "name": "python",
   "nbconvert_exporter": "python",
   "pygments_lexer": "ipython3",
   "version": "3.11.5"
  }
 },
 "nbformat": 4,
 "nbformat_minor": 5
}
